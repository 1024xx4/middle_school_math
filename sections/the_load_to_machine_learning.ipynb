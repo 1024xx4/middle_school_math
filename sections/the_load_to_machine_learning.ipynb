{
 "cells": [
  {
   "cell_type": "code",
   "execution_count": 4,
   "metadata": {
    "collapsed": true
   },
   "outputs": [
    {
     "data": {
      "text/plain": "<Figure size 432x288 with 1 Axes>",
      "image/png": "[encoded data removed]"
     },
     "metadata": {
      "needs_background": "light"
     },
     "output_type": "display_data"
    }
   ],
   "source": [
    "# 8-1: Graph of f(x) = 2x + 3\n",
    "import matplotlib.pyplot as plt\n",
    "import numpy as np\n",
    "\n",
    "\n",
    "# Function definition.\n",
    "def f(x):\n",
    "    return 2 * x + 3\n",
    "\n",
    "\n",
    "# x coordinate, y coordinate.\n",
    "x = np.arange(-3, 4)\n",
    "y = f(x)\n",
    "\n",
    "# Graph.\n",
    "plt.plot(x, y, \"o\")  # Drawing points.\n",
    "plt.grid(color='0.8')  # Drawing Grid.\n",
    "plt.show()"
   ]
  }
 ],
 "metadata": {
  "kernelspec": {
   "display_name": "Python 3",
   "language": "python",
   "name": "python3"
  },
  "language_info": {
   "codemirror_mode": {
    "name": "ipython",
    "version": 2
   },
   "file_extension": ".py",
   "mimetype": "text/x-python",
   "name": "python",
   "nbconvert_exporter": "python",
   "pygments_lexer": "ipython2",
   "version": "2.7.6"
  }
 },
 "nbformat": 4,
 "nbformat_minor": 0
}