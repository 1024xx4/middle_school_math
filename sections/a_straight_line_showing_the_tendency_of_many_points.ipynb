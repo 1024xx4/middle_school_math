{
 "cells": [
  {
   "cell_type": "code",
   "execution_count": 4,
   "metadata": {
    "collapsed": true
   },
   "outputs": [
    {
     "data": {
      "text/plain": "<Figure size 432x288 with 1 Axes>",
      "image/png": "[encoded data removed]"
     },
     "metadata": {
      "needs_background": "light"
     },
     "output_type": "display_data"
    }
   ],
   "source": [
    "# 7-1: Draw a scatter plot.\n",
    "import matplotlib.pyplot as plt\n",
    "\n",
    "# Data\n",
    "dx = [28, 26, 28, 27, 27, 20, 26, 22, 23, 19, 26, 23, 25, 21, 20, 18, 24, 19, 24, 25]\n",
    "dy = [111, 97, 102, 105, 108, 74, 116, 92, 112, 88, 116, 101, 93, 74, 87, 71, 94, 67, 105, 99]\n",
    "\n",
    "# 散布図を描画\n",
    "plt.scatter(dx, dy)\n",
    "plt.show()"
   ]
  },
  {
   "cell_type": "code",
   "execution_count": 1,
   "outputs": [
    {
     "name": "stdout",
     "output_type": "stream",
     "text": [
      "[28, 26, 28, 27, 27, 20, 26, 22, 23, 19, 26, 23, 25, 21, 20, 18, 24, 19, 24, 25]\n",
      "[111, 97, 102, 105, 108, 74, 116, 92, 112, 88, 116, 101, 93, 74, 87, 71, 94, 67, 105, 99]\n"
     ]
    },
    {
     "data": {
      "text/plain": "<Figure size 432x288 with 1 Axes>",
      "image/png": "[encoded data removed]"
     },
     "metadata": {
      "needs_background": "light"
     },
     "output_type": "display_data"
    }
   ],
   "source": [
    "# 7-2: Read CSV file.\n",
    "import matplotlib.pyplot as plt\n",
    "import csv\n",
    "\n",
    "# File を開く\n",
    "f = open('./csv/score.csv')\n",
    "\n",
    "# File から１行ずつ読み込んで List に追加\n",
    "dx = []\n",
    "dy = []\n",
    "for row in csv.reader(f):\n",
    "    dx.append(int(row[0]))  # １列目\n",
    "    dy.append(int(row[1]))  # ２列目\n",
    "\n",
    "# File を閉じる\n",
    "f.close()\n",
    "\n",
    "print(dx)\n",
    "print(dy)\n",
    "\n",
    "plt.scatter(dx, dy)\n",
    "plt.xlabel('temperature')\n",
    "plt.ylabel('juice')\n",
    "plt.show()"
   ],
   "metadata": {
    "collapsed": false,
    "pycharm": {
     "name": "#%%\n"
    }
   }
  },
  {
   "cell_type": "code",
   "execution_count": 2,
   "outputs": [
    {
     "name": "stdout",
     "output_type": "stream",
     "text": [
      "187050.0\n"
     ]
    }
   ],
   "source": [
    "# 7-4: Find the \"deviation\" between the actual data and the first straight line.\n",
    "import csv\n",
    "import matplotlib.pyplot as plt\n",
    "\n",
    "dx = []\n",
    "dy = []\n",
    "\n",
    "with open('./csv/score.csv', newline='') as f:\n",
    "    reader = csv.reader(f)\n",
    "    for row in reader:\n",
    "        dx.append(int(row[0]))\n",
    "        dy.append(int(row[1]))\n",
    "\n",
    "# 初期値\n",
    "a = 0.0  # 直線の傾き\n",
    "b = 0.0  # 切片\n",
    "\n",
    "# 差の二乗和\n",
    "min_res = 0.0\n",
    "for i in range(20):\n",
    "    y = a * dx[i] + b\n",
    "    min_res += (dy[i] - y) ** 2\n",
    "print(min_res)"
   ],
   "metadata": {
    "collapsed": false,
    "pycharm": {
     "name": "#%%\n"
    }
   }
  },
  {
   "cell_type": "code",
   "execution_count": 2,
   "outputs": [
    {
     "name": "stdout",
     "output_type": "stream",
     "text": [
      "187050.0\n"
     ]
    }
   ],
   "source": [
    "# 7-5: Use an array of NumPy\n",
    "import matplotlib.pyplot as plt\n",
    "import numpy as np\n",
    "\n",
    "# Data\n",
    "dx = np.array([28, 26, 28, 27, 27, 20, 26, 22, 23, 19, 26, 23, 25, 21, 20, 18, 24, 19, 24, 25])\n",
    "dy = np.array([111, 97, 102, 105, 108, 74, 116, 92, 112, 88, 116, 101, 93, 74, 87, 71, 94, 67, 105, 99])\n",
    "\n",
    "# 初期値\n",
    "a = 0.0  # 直線の傾き\n",
    "b = 0.0  # 切片\n",
    "\n",
    "# 差の二乗和\n",
    "y = a * dx + b  # 直線状の y 座標\n",
    "min_res = np.sum((dy - y) ** 2)  # 実 Data と y 座標との差の二乗和\n",
    "print(min_res)"
   ],
   "metadata": {
    "collapsed": false,
    "pycharm": {
     "name": "#%%\n"
    }
   }
  },
  {
   "cell_type": "code",
   "execution_count": 3,
   "outputs": [
    {
     "name": "stdout",
     "output_type": "stream",
     "text": [
      "187050.0\n",
      "3.8217148018703337 5.598617817462042 1444.6670121794457\n"
     ]
    }
   ],
   "source": [
    "# 7-6: Find the slop and intercept of a straight line using random numbers\n",
    "import csv\n",
    "import random\n",
    "\n",
    "dx = []\n",
    "dy = []\n",
    "\n",
    "with open('./csv/score.csv', newline='') as f:\n",
    "    reader = csv.reader(f)\n",
    "    for row in reader:\n",
    "        dx.append(int(row[0]))\n",
    "        dy.append(int(row[1]))\n",
    "\n",
    "# 初期値\n",
    "a = 0.0  # 直線の傾き\n",
    "b = 0.0  # 切片\n",
    "\n",
    "# 差の二乗和\n",
    "min_res = 0.0\n",
    "for i in range(20):\n",
    "    y = a * dx[i] + b\n",
    "    min_res += (dy[i] - y) ** 2\n",
    "print(min_res)\n",
    "\n",
    "for i in range(500000):\n",
    "    # 傾きと切片の更新量を決定\n",
    "    wa = (random.random() - 0.5) * 0.001\n",
    "    wb = (random.random() - 0.5) * 0.001\n",
    "\n",
    "    # 差の二乗和\n",
    "    res = 0\n",
    "    for j in range(20):\n",
    "        y = (a + wa) * dx[j] + (b + wb)\n",
    "        res += (dy[j] - y) ** 2\n",
    "\n",
    "    # 値を更新\n",
    "    if res < min_res:\n",
    "        min_res = res  # 仮の最小値\n",
    "        a = a + wa  # 傾き\n",
    "        b = b + wb  # 切片\n",
    "print(a, b, min_res)"
   ],
   "metadata": {
    "collapsed": false,
    "pycharm": {
     "name": "#%%\n"
    }
   }
  },
  {
   "cell_type": "code",
   "execution_count": 2,
   "outputs": [
    {
     "name": "stdout",
     "output_type": "stream",
     "text": [
      "187050.0\n",
      "3.821714929439712 5.598614688302777 1444.6670121794104\n"
     ]
    },
    {
     "data": {
      "text/plain": "<Figure size 432x288 with 1 Axes>",
      "image/png": "[encoded data removed]"
     },
     "metadata": {
      "needs_background": "light"
     },
     "output_type": "display_data"
    },
    {
     "data": {
      "text/plain": "139.35863721869268"
     },
     "execution_count": 2,
     "metadata": {},
     "output_type": "execute_result"
    }
   ],
   "source": [
    "# 7-7: Overlay the regression line on the scatter plot.\n",
    "import matplotlib.pyplot as plt\n",
    "import numpy as np\n",
    "import csv\n",
    "import random\n",
    "import matplotlib.font_manager as fm\n",
    "\n",
    "fp = fm.FontProperties(fname='/usr/share/fonts/windows/msgothic.ttc', size=10)\n",
    "\n",
    "dx = []\n",
    "dy = []\n",
    "\n",
    "with open('./csv/score.csv', newline='') as f:\n",
    "    reader = csv.reader(f)\n",
    "    for row in reader:\n",
    "        dx.append(int(row[0]))\n",
    "        dy.append(int(row[1]))\n",
    "\n",
    "# 初期値\n",
    "a = 0.0  # 直線の傾き\n",
    "b = 0.0  # 切片\n",
    "\n",
    "# 差の二乗和\n",
    "min_res = 0.0\n",
    "for i in range(20):\n",
    "    y = a * dx[i] + b\n",
    "    min_res += (dy[i] - y) ** 2\n",
    "print(min_res)\n",
    "\n",
    "for i in range(500000):\n",
    "    # 傾きと切片の更新量を決定\n",
    "    wa = (random.random() - 0.5) * 0.001\n",
    "    wb = (random.random() - 0.5) * 0.001\n",
    "\n",
    "    # 差の二乗和\n",
    "    res = 0\n",
    "    for j in range(20):\n",
    "        y = (a + wa) * dx[j] + (b + wb)\n",
    "        res += (dy[j] - y) ** 2\n",
    "\n",
    "    # 値を更新\n",
    "    if res < min_res:\n",
    "        min_res = res  # 仮の最小値\n",
    "        a = a + wa  # 傾き\n",
    "        b = b + wb  # 切片\n",
    "print(a, b, min_res)\n",
    "\n",
    "\n",
    "# 回帰直線\n",
    "def func(x):\n",
    "    return a * x + b  # y=ax+b\n",
    "\n",
    "# 直線用の Data\n",
    "x = np.arange(18, 30)\n",
    "y = func(x)\n",
    "\n",
    "# 表示\n",
    "plt.scatter(dx, dy) # 散布図\n",
    "plt.plot(x, y) # 回帰直線\n",
    "plt.xlabel('気温（℃）', fontproperties=fp)\n",
    "plt.ylabel('販売数（本）', fontproperties=fp)\n",
    "plt.show()\n",
    "\n",
    "y = func(35)\n",
    "y"
   ],
   "metadata": {
    "collapsed": false,
    "pycharm": {
     "name": "#%%\n"
    }
   }
  },
  {
   "cell_type": "code",
   "execution_count": 6,
   "outputs": [
    {
     "name": "stdout",
     "output_type": "stream",
     "text": [
      "187050.0\n",
      "3.821715404606946 5.598601392770266 1444.667012179336\n"
     ]
    }
   ],
   "source": [
    "# 7-8: Find the slope and intercept of a straight line using random numbers(improved version of program 7-6)\n",
    "import csv\n",
    "import random\n",
    "import matplotlib.pyplot as plt\n",
    "\n",
    "dx = []\n",
    "dy = []\n",
    "\n",
    "with open('././csv/score.csv', newline='') as f:\n",
    "    reader = csv.reader(f)\n",
    "    for row in reader:\n",
    "        dx.append(int(row[0]))\n",
    "        dy.append(int(row[1]))\n",
    "\n",
    "# Initial value.\n",
    "a = 0.0  # Slope of a straight line.\n",
    "b = 0.0  # Intercept.\n",
    "\n",
    "# Sum of squares of difference.\n",
    "min_res = 0.0\n",
    "for i in range(20):\n",
    "    y = a * dx[i] + b\n",
    "    min_res += (dy[i] - y) ** 2\n",
    "print(min_res)\n",
    "\n",
    "for i in range(100_000):\n",
    "    # Determine slope and intercept update amount.\n",
    "    if i < 10_000:\n",
    "        wa = random.random() - 0.5\n",
    "        wb = random.random() - 0.5\n",
    "    elif i < 30_000:\n",
    "        wa = (random.random() - 0.5) * 0.01\n",
    "        wb = (random.random() - 0.5) * 0.01\n",
    "    else:\n",
    "        wa = (random.random() - 0.5) * 0.001\n",
    "        wb = (random.random() - 0.5) * 0.001\n",
    "\n",
    "    # sum of squares of difference.\n",
    "    res = 0\n",
    "    for j in range(20):\n",
    "        y = (a + wa) * dx[j] + (b + wb)\n",
    "        res += (dy[j] - y) ** 2\n",
    "\n",
    "    # Update value.\n",
    "    if res < min_res:\n",
    "        min_res = res  # Tentative value\n",
    "        a = a + wa  # Slope\n",
    "        b = b + wb  # Intercept\n",
    "print(a, b, min_res)"
   ],
   "metadata": {
    "collapsed": false,
    "pycharm": {
     "name": "#%%\n"
    }
   }
  }
 ],
 "metadata": {
  "kernelspec": {
   "display_name": "Python 3",
   "language": "python",
   "name": "python3"
  },
  "language_info": {
   "codemirror_mode": {
    "name": "ipython",
    "version": 2
   },
   "file_extension": ".py",
   "mimetype": "text/x-python",
   "name": "python",
   "nbconvert_exporter": "python",
   "pygments_lexer": "ipython2",
   "version": "2.7.6"
  }
 },
 "nbformat": 4,
 "nbformat_minor": 0
}