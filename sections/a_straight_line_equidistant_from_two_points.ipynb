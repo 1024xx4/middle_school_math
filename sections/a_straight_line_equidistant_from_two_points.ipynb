{
 "cells": [
  {
   "cell_type": "code",
   "execution_count": 10,
   "metadata": {
    "collapsed": true,
    "pycharm": {
     "name": "#%%\n"
    }
   },
   "outputs": [
    {
     "name": "stderr",
     "output_type": "stream",
     "text": [
      "/home/takassi/.local/share/virtualenvs/middle_school_math-aBDxAX-_/lib/python3.9/site-packages/IPython/lib/latextools.py:126: MatplotlibDeprecationWarning: \n",
      "The to_png function was deprecated in Matplotlib 3.4 and will be removed two minor releases later. Use mathtext.math_to_image instead.\n",
      "  mt.to_png(f, s, fontsize=12, dpi=dpi, color=color)\n",
      "/home/takassi/.local/share/virtualenvs/middle_school_math-aBDxAX-_/lib/python3.9/site-packages/IPython/lib/latextools.py:126: MatplotlibDeprecationWarning: \n",
      "The to_rgba function was deprecated in Matplotlib 3.4 and will be removed two minor releases later. Use mathtext.math_to_image instead.\n",
      "  mt.to_png(f, s, fontsize=12, dpi=dpi, color=color)\n",
      "/home/takassi/.local/share/virtualenvs/middle_school_math-aBDxAX-_/lib/python3.9/site-packages/IPython/lib/latextools.py:126: MatplotlibDeprecationWarning: \n",
      "The to_mask function was deprecated in Matplotlib 3.4 and will be removed two minor releases later. Use mathtext.math_to_image instead.\n",
      "  mt.to_png(f, s, fontsize=12, dpi=dpi, color=color)\n",
      "/home/takassi/.local/share/virtualenvs/middle_school_math-aBDxAX-_/lib/python3.9/site-packages/IPython/lib/latextools.py:126: MatplotlibDeprecationWarning: \n",
      "The MathtextBackendBitmap class was deprecated in Matplotlib 3.4 and will be removed two minor releases later. Use mathtext.math_to_image instead.\n",
      "  mt.to_png(f, s, fontsize=12, dpi=dpi, color=color)\n"
     ]
    },
    {
     "data": {
      "text/plain": "         2          2          2          2\n- (2 - y)  - (4 - x)  + (x - 1)  + (y - 6) ",
      "image/png": "[encoded data removed]",
      "text/latex": "$\\displaystyle - \\left(2 - y\\right)^{2} - \\left(4 - x\\right)^{2} + \\left(x - 1\\right)^{2} + \\left(y - 6\\right)^{2}$"
     },
     "metadata": {},
     "output_type": "display_data"
    },
    {
     "data": {
      "text/plain": "6⋅x - 8⋅y + 17",
      "image/png": "[encoded data removed]",
      "text/latex": "$\\displaystyle 6 x - 8 y + 17$"
     },
     "metadata": {},
     "output_type": "display_data"
    },
    {
     "data": {
      "text/plain": "           2           2            2           2\n- (-x + x₂)  + (x - x₁)  - (-y + y₂)  + (y - y₁) ",
      "image/png": "[encoded data removed]",
      "text/latex": "$\\displaystyle - \\left(- x + x_{2}\\right)^{2} + \\left(x - x_{1}\\right)^{2} - \\left(- y + y_{2}\\right)^{2} + \\left(y - y_{1}\\right)^{2}$"
     },
     "metadata": {},
     "output_type": "display_data"
    },
    {
     "data": {
      "text/plain": "⎡  2     2           2           2⎤\n⎢y₁  - y₂  + (x - x₁)  - (x - x₂) ⎥\n⎢─────────────────────────────────⎥\n⎣           2⋅(y₁ - y₂)           ⎦",
      "image/png": "[encoded data removed]",
      "text/latex": "$\\displaystyle \\left[ \\frac{y_{1}^{2} - y_{2}^{2} + \\left(x - x_{1}\\right)^{2} - \\left(x - x_{2}\\right)^{2}}{2 \\left(y_{1} - y_{2}\\right)}\\right]$"
     },
     "metadata": {},
     "output_type": "display_data"
    },
    {
     "data": {
      "text/plain": "         2          2          2          2\n- (2 - y)  - (4 - x)  + (x - 1)  + (y - 6) ",
      "image/png": "[encoded data removed]",
      "text/latex": "$\\displaystyle - \\left(2 - y\\right)^{2} - \\left(4 - x\\right)^{2} + \\left(x - 1\\right)^{2} + \\left(y - 6\\right)^{2}$"
     },
     "metadata": {},
     "output_type": "display_data"
    },
    {
     "data": {
      "text/plain": "⎡3⋅x   17⎤\n⎢─── + ──⎥\n⎣ 4    8 ⎦",
      "image/png": "[encoded data removed]",
      "text/latex": "$\\displaystyle \\left[ \\frac{3 x}{4} + \\frac{17}{8}\\right]$"
     },
     "execution_count": 10,
     "metadata": {},
     "output_type": "execute_result"
    }
   ],
   "source": [
    "# 6-2: A straight line equation equidistant from two points\n",
    "# 点A(座標[1, 6])、点B(座標[4, 2])の2点から等距離にある直線の式を求める。\n",
    "import sympy as sp\n",
    "\n",
    "sp.init_printing()\n",
    "\n",
    "# 記号を定義\n",
    "x, y = sp.symbols('x, y')\n",
    "\n",
    "# 値を代入\n",
    "x1 = 1;\n",
    "y1 = 6  # 点A\n",
    "x2 = 4;\n",
    "y2 = 2  # 点B\n",
    "\n",
    "# 式を定義\n",
    "expr = ((x - x1) ** 2 + (y - y1) ** 2) - ((x2 - x) ** 2 + (y2 - y) ** 2)\n",
    "display(expr)\n",
    "display(sp.simplify(expr))\n",
    "\n",
    "# 式を y について解く\n",
    "ans = sp.solve(expr, y)\n",
    "ans\n",
    "\n",
    "# A straight line equation equidistant from two points(General form)\n",
    "# 記号を定義\n",
    "x, y = sp.symbols('x, y')\n",
    "x1, y1 = sp.symbols('x1, y1')  # 点A\n",
    "x2, y2 = sp.symbols('x2, y2')  # 点B\n",
    "\n",
    "# 式を定義\n",
    "expr = ((x - x1) ** 2 + (y - y1) ** 2) - ((x2 - x) ** 2 + (y2 - y) ** 2)\n",
    "display(expr)\n",
    "\n",
    "# 式を y について解く\n",
    "ans = sp.solve(expr, y)\n",
    "display(ans)\n",
    "\n",
    "# 式に値を代入して expr を上書き\n",
    "expr = expr.subs({x1: 1, y1: 6, x2: 4, y2: 2})\n",
    "display(expr)\n",
    "\n",
    "# 式を y について解く\n",
    "ans = sp.solve(expr, y)\n",
    "ans"
   ]
  },
  {
   "cell_type": "code",
   "execution_count": 14,
   "outputs": [
    {
     "data": {
      "text/plain": "<Figure size 432x288 with 1 Axes>",
      "image/png": "[encoded data removed]"
     },
     "metadata": {
      "needs_background": "light"
     },
     "output_type": "display_data"
    }
   ],
   "source": [
    "# Draw a straight line equidistant from two points\n",
    "import matplotlib.pyplot as plt\n",
    "import numpy as np\n",
    "\n",
    "# (1, 6)、(4, 2) から等距離にある直線の式\n",
    "def func(x):\n",
    "    return 3/4*x + 17/8\n",
    "\n",
    "# x, y の値\n",
    "x = np.arange(-2, 10)\n",
    "y = func(x)\n",
    "\n",
    "# 描画\n",
    "plt.scatter(1, 6, color='r') # 点A\n",
    "plt.scatter(4, 2, color='r') # 点B\n",
    "plt.plot(x, y, marker='o', color='k') # 2点から等距離にある直線\n",
    "plt.show()"
   ],
   "metadata": {
    "collapsed": false,
    "pycharm": {
     "name": "#%%\n"
    }
   }
  }
 ],
 "metadata": {
  "kernelspec": {
   "display_name": "Python 3",
   "language": "python",
   "name": "python3"
  },
  "language_info": {
   "codemirror_mode": {
    "name": "ipython",
    "version": 2
   },
   "file_extension": ".py",
   "mimetype": "text/x-python",
   "name": "python",
   "nbconvert_exporter": "python",
   "pygments_lexer": "ipython2",
   "version": "2.7.6"
  }
 },
 "nbformat": 4,
 "nbformat_minor": 0
}