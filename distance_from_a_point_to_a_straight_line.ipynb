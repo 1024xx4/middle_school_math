{
 "cells": [
  {
   "cell_type": "code",
   "execution_count": 5,
   "metadata": {
    "collapsed": true
   },
   "outputs": [
    {
     "data": {
      "text/plain": "10.0"
     },
     "metadata": {},
     "output_type": "display_data"
    },
    {
     "data": {
      "text/plain": "10.0"
     },
     "execution_count": 5,
     "metadata": {},
     "output_type": "execute_result"
    }
   ],
   "source": [
    "# 5-2: Distance between two points\n",
    "import math\n",
    "\n",
    "\n",
    "def dist_p2p(x1, y1, x2, y2):\n",
    "    return math.sqrt((x2 - x1) ** 2 + (y2 - y1) ** 2)\n",
    "\n",
    "\n",
    "d = dist_p2p(-1, -1, 5, 7)\n",
    "\n",
    "\n",
    "# Refactor to tuple.\n",
    "def dist_p2p(p1, p2):\n",
    "    return math.sqrt((p2[0] - p1[0]) ** 2 + (p2[1] - p1[1]) ** 2)\n",
    "\n",
    "\n",
    "d = dist_p2p((-1, -1), (5, 7))\n",
    "d"
   ]
  },
  {
   "cell_type": "code",
   "execution_count": 4,
   "outputs": [
    {
     "name": "stderr",
     "output_type": "stream",
     "text": [
      "/home/takassi/.local/share/virtualenvs/middle_school_math-aBDxAX-_/lib/python3.9/site-packages/IPython/lib/latextools.py:126: MatplotlibDeprecationWarning: \n",
      "The to_png function was deprecated in Matplotlib 3.4 and will be removed two minor releases later. Use mathtext.math_to_image instead.\n",
      "  mt.to_png(f, s, fontsize=12, dpi=dpi, color=color)\n",
      "/home/takassi/.local/share/virtualenvs/middle_school_math-aBDxAX-_/lib/python3.9/site-packages/IPython/lib/latextools.py:126: MatplotlibDeprecationWarning: \n",
      "The to_rgba function was deprecated in Matplotlib 3.4 and will be removed two minor releases later. Use mathtext.math_to_image instead.\n",
      "  mt.to_png(f, s, fontsize=12, dpi=dpi, color=color)\n",
      "/home/takassi/.local/share/virtualenvs/middle_school_math-aBDxAX-_/lib/python3.9/site-packages/IPython/lib/latextools.py:126: MatplotlibDeprecationWarning: \n",
      "The to_mask function was deprecated in Matplotlib 3.4 and will be removed two minor releases later. Use mathtext.math_to_image instead.\n",
      "  mt.to_png(f, s, fontsize=12, dpi=dpi, color=color)\n",
      "/home/takassi/.local/share/virtualenvs/middle_school_math-aBDxAX-_/lib/python3.9/site-packages/IPython/lib/latextools.py:126: MatplotlibDeprecationWarning: \n",
      "The MathtextBackendBitmap class was deprecated in Matplotlib 3.4 and will be removed two minor releases later. Use mathtext.math_to_image instead.\n",
      "  mt.to_png(f, s, fontsize=12, dpi=dpi, color=color)\n"
     ]
    },
    {
     "data": {
      "text/plain": "2.23606797749979",
      "image/png": "[encoded data removed]",
      "text/latex": "$\\displaystyle 2.23606797749979$"
     },
     "execution_count": 4,
     "metadata": {},
     "output_type": "execute_result"
    }
   ],
   "source": [
    "# 5-3: Distance between origin and straight line.\n",
    "import sympy as sp\n",
    "import math\n",
    "\n",
    "# 記号と式を定義\n",
    "x, y = sp.symbols('x, y')\n",
    "expr1 = sp.Eq(y, -2 * x + 5)\n",
    "expr2 = sp.Eq(y, 1 / 2 * x)\n",
    "\n",
    "# 連立方程式を解く\n",
    "p = sp.solve([expr1, expr2])\n",
    "p\n",
    "\n",
    "\n",
    "def dist_p2p(p1, p2):\n",
    "    return math.sqrt((p2[0] - p1[0]) ** 2 + (p2[1] - p1[1]) ** 2)\n",
    "\n",
    "\n",
    "d = dist_p2p((0, 0), (p[x], p[y]))\n",
    "d"
   ],
   "metadata": {
    "collapsed": false,
    "pycharm": {
     "name": "#%%\n"
    }
   }
  },
  {
   "cell_type": "code",
   "execution_count": 3,
   "outputs": [
    {
     "data": {
      "text/plain": "7.5 - 1.5*x",
      "text/latex": "$\\displaystyle 7.5 - 1.5 x$"
     },
     "metadata": {},
     "output_type": "display_data"
    },
    {
     "data": {
      "text/plain": "{x: 3.00000000000000, y: 3.00000000000000}"
     },
     "metadata": {},
     "output_type": "display_data"
    },
    {
     "data": {
      "text/plain": "3.605551275463989"
     },
     "execution_count": 3,
     "metadata": {},
     "output_type": "execute_result"
    }
   ],
   "source": [
    "# 5-4: 点と直線の距離\n",
    "\n",
    "import sympy as sp\n",
    "import math\n",
    "\n",
    "# (2)垂線の式\n",
    "x = sp.Symbol('x')\n",
    "ex = -3 / 2 * (x - 1) + 6\n",
    "display(ex)\n",
    "\n",
    "# (32直線の交点\n",
    "\n",
    "y = sp.Symbol('y')\n",
    "expr1 = sp.Eq(y, 2 / 3 * x + 1)\n",
    "expr2 = sp.Eq(y, ex)\n",
    "p = sp.solve([expr1, expr2])\n",
    "display(p)\n",
    "\n",
    "\n",
    "# (4)点と直線の距離\n",
    "def dist_p2p(p1, p2):\n",
    "    return math.sqrt((p2[0] - p1[0]) ** 2 + (p2[1] - p1[1]) ** 2)\n",
    "\n",
    "\n",
    "d = dist_p2p((1, 6), (p[x], p[y]))\n",
    "d"
   ],
   "metadata": {
    "collapsed": false,
    "pycharm": {
     "name": "#%%\n"
    }
   }
  }
 ],
 "metadata": {
  "kernelspec": {
   "display_name": "Python 3",
   "language": "python",
   "name": "python3"
  },
  "language_info": {
   "codemirror_mode": {
    "name": "ipython",
    "version": 2
   },
   "file_extension": ".py",
   "mimetype": "text/x-python",
   "name": "python",
   "nbconvert_exporter": "python",
   "pygments_lexer": "ipython2",
   "version": "2.7.6"
  }
 },
 "nbformat": 4,
 "nbformat_minor": 0
}