{
 "cells": [
  {
   "cell_type": "code",
   "execution_count": 2,
   "metadata": {
    "collapsed": true,
    "pycharm": {
     "name": "#%%\n"
    }
   },
   "outputs": [
    {
     "data": {
      "text/plain": "<Figure size 432x288 with 1 Axes>",
      "image/png": "[encoded data removed]"
     },
     "metadata": {
      "needs_background": "light"
     },
     "output_type": "display_data"
    }
   ],
   "source": [
    "% matplotlib inline\n",
    "import matplotlib.pyplot as plt\n",
    "\n",
    "x = [0, 1, 2, 3, 4, 5]  # x座標\n",
    "y = x  # y = x\n",
    "\n",
    "plt.plot(x, y)\n",
    "plt.axis('equal')  # 縦横の目盛りの大きさを揃える\n",
    "plt.grid(color='0.8')  # グリッドを描画する(薄グレー)\n",
    "plt.show()\n",
    "\n"
   ]
  },
  {
   "cell_type": "code",
   "execution_count": null,
   "outputs": [],
   "source": [
    "def func_1(x):\n",
    "    return x  # y = x\n",
    "\n",
    "\n",
    "x = []\n",
    "y = []\n",
    "for i in range(-10, 11):  # i が 0～5の間\n",
    "    x.append(i)  # x に i を追加\n",
    "    y.append(func_1(i))  # func_1() の結果を y に追加\n",
    "\n",
    "plt.plot(x, y)\n",
    "plt.axis('equal')\n",
    "plt.grid(color='0.8')\n",
    "plt.show()"
   ],
   "metadata": {
    "collapsed": false,
    "pycharm": {
     "name": "#%%\n"
    }
   }
  },
  {
   "cell_type": "code",
   "execution_count": null,
   "outputs": [],
   "source": [
    "def func_2(x):\n",
    "    return 2 * x  # y = 2x\n",
    "\n",
    "\n",
    "x = []\n",
    "y = []\n",
    "for i in range(0, 6):  # i が 0～5の間\n",
    "    x.append(i)  # x に i を追加\n",
    "    y.append(func_2(i))  # func_2() の結果を y に追加\n",
    "\n",
    "plt.plot(x, y)\n",
    "plt.axis('equal')\n",
    "plt.grid(color='0.8')\n",
    "plt.show()"
   ],
   "metadata": {
    "collapsed": false,
    "pycharm": {
     "name": "#%%\n"
    }
   }
  },
  {
   "cell_type": "code",
   "execution_count": 4,
   "outputs": [
    {
     "data": {
      "text/plain": "<Figure size 432x288 with 1 Axes>",
      "image/png": "[encoded data removed]"
     },
     "metadata": {
      "needs_background": "light"
     },
     "output_type": "display_data"
    }
   ],
   "source": [
    "import matplotlib.pyplot as plt\n",
    "\n",
    "def func_3(x):\n",
    "    return 2 / 3 * x\n",
    "\n",
    "x = []\n",
    "y = []\n",
    "for i in range(-5, 6):\n",
    "    x.append(i)\n",
    "    y.append(func_3(i))\n",
    "\n",
    "plt.plot(x, y)\n",
    "plt.axis('equal')\n",
    "plt.grid(color='0.8')\n",
    "plt.show()"
   ],
   "metadata": {
    "collapsed": false,
    "pycharm": {
     "name": "#%%\n"
    }
   }
  }
 ],
 "metadata": {
  "kernelspec": {
   "display_name": "Python 3",
   "language": "python",
   "name": "python3"
  },
  "language_info": {
   "codemirror_mode": {
    "name": "ipython",
    "version": 2
   },
   "file_extension": ".py",
   "mimetype": "text/x-python",
   "name": "python",
   "nbconvert_exporter": "python",
   "pygments_lexer": "ipython2",
   "version": "2.7.6"
  }
 },
 "nbformat": 4,
 "nbformat_minor": 0
}