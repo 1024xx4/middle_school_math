{
 "cells": [
  {
   "cell_type": "code",
   "execution_count": 1,
   "metadata": {
    "collapsed": true,
    "pycharm": {
     "name": "#%%\n"
    }
   },
   "outputs": [
    {
     "data": {
      "text/plain": "<Figure size 432x288 with 1 Axes>",
      "image/png": "[encoded data removed]"
     },
     "metadata": {
      "needs_background": "light"
     },
     "output_type": "display_data"
    }
   ],
   "source": [
    "# Equations and graphs\n",
    "import matplotlib.pyplot as plt\n",
    "import numpy as np\n",
    "\n",
    "def func(x):\n",
    "    return 2100 - 70 * x\n",
    "\n",
    "x = np.arange(0, 60)\n",
    "y = func(x)\n",
    "plt.plot(x, y)\n",
    "\n",
    "plt.grid(color='0.8')\n",
    "plt.show()"
   ]
  },
  {
   "cell_type": "code",
   "execution_count": 7,
   "outputs": [
    {
     "data": {
      "text/plain": "2100 - 70*x",
      "text/latex": "$\\displaystyle 2100 - 70 x$"
     },
     "metadata": {},
     "output_type": "display_data"
    },
    {
     "data": {
      "text/plain": "pi*r**2",
      "text/latex": "$\\displaystyle \\pi r^{2}$"
     },
     "metadata": {},
     "output_type": "display_data"
    },
    {
     "data": {
      "text/plain": "78.5000000000000",
      "text/latex": "$\\displaystyle 78.5$"
     },
     "execution_count": 7,
     "metadata": {},
     "output_type": "execute_result"
    }
   ],
   "source": [
    "# Calculate with SymPy\n",
    "## Define an expression\n",
    "import sympy as sp\n",
    "\n",
    "x = sp.Symbol('x')\n",
    "y = 2100 - 70 * x\n",
    "display(y)\n",
    "\n",
    "## Assign a value\n",
    "ans = y.subs(x, 10)\n",
    "ans\n",
    "\n",
    "## Expression containing multiple characters\n",
    "r = sp.Symbol('r')\n",
    "expr = sp.pi * r**2\n",
    "display(expr)\n",
    "\n",
    "expr.subs({sp.pi: 3.14, r:5})"
   ],
   "metadata": {
    "collapsed": false,
    "pycharm": {
     "name": "#%%\n"
    }
   }
  }
 ],
 "metadata": {
  "kernelspec": {
   "display_name": "Python 3",
   "language": "python",
   "name": "python3"
  },
  "language_info": {
   "codemirror_mode": {
    "name": "ipython",
    "version": 2
   },
   "file_extension": ".py",
   "mimetype": "text/x-python",
   "name": "python",
   "nbconvert_exporter": "python",
   "pygments_lexer": "ipython2",
   "version": "2.7.6"
  }
 },
 "nbformat": 4,
 "nbformat_minor": 0
}