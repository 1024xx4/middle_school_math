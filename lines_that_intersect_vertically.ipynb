{
 "cells": [
  {
   "cell_type": "code",
   "execution_count": 5,
   "metadata": {
    "collapsed": true,
    "pycharm": {
     "name": "#%%\n"
    }
   },
   "outputs": [
    {
     "data": {
      "text/plain": "2*a1*a2 + 2",
      "text/latex": "$\\displaystyle 2 a_{1} a_{2} + 2$"
     },
     "execution_count": 5,
     "metadata": {},
     "output_type": "execute_result"
    }
   ],
   "source": [
    "# 4-2: The law that holds when straight lines are orthogonal\n",
    "import sympy as sp\n",
    "\n",
    "a1 = sp.Symbol('a1')\n",
    "a2 = sp.Symbol('a2')\n",
    "\n",
    "expr = sp.Eq((a1 - a2) ** 2, (1 ** 2 + a1 ** 2) + (1 ** 2 + a2 ** 2))\n",
    "expr\n",
    "\n",
    "sp.expand(expr)\n",
    "\n",
    "expr2 = (1 ** 2 + a1 ** 2) + (1 ** 2 + a2 ** 2) - (a1 - a2) ** 2\n",
    "expr2\n",
    "\n",
    "sp.simplify(expr2)"
   ]
  },
  {
   "cell_type": "code",
   "execution_count": 6,
   "outputs": [
    {
     "data": {
      "text/plain": "<Figure size 432x288 with 1 Axes>",
      "image/png": "[encoded data removed]"
     },
     "metadata": {
      "needs_background": "light"
     },
     "output_type": "display_data"
    }
   ],
   "source": [
    "# 4-3: Straight line vertical condition\n",
    "import matplotlib.pyplot as plt\n",
    "import numpy as np\n",
    "\n",
    "\n",
    "def func1(x):\n",
    "    return 3 / 2 * x - 1\n",
    "\n",
    "\n",
    "def func2(x):\n",
    "    return -2 / 3 * x + 5\n",
    "\n",
    "# x の範囲\n",
    "x = np.arange(-2, 9)\n",
    "\n",
    "# 右上がりの直線\n",
    "y1 = func1(x)\n",
    "plt.plot(x, y1)\n",
    "\n",
    "# 右下がりの直線\n",
    "y2 = func2(x)\n",
    "plt.plot(x, y2)\n",
    "\n",
    "# 縦横比を 1:1 で表示\n",
    "plt.axis('equal')\n",
    "plt.show()"
   ],
   "metadata": {
    "collapsed": false,
    "pycharm": {
     "name": "#%%\n"
    }
   }
  }
 ],
 "metadata": {
  "kernelspec": {
   "display_name": "Python 3",
   "language": "python",
   "name": "python3"
  },
  "language_info": {
   "codemirror_mode": {
    "name": "ipython",
    "version": 2
   },
   "file_extension": ".py",
   "mimetype": "text/x-python",
   "name": "python",
   "nbconvert_exporter": "python",
   "pygments_lexer": "ipython2",
   "version": "2.7.6"
  }
 },
 "nbformat": 4,
 "nbformat_minor": 0
}