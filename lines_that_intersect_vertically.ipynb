{
 "cells": [
  {
   "cell_type": "code",
   "execution_count": 5,
   "metadata": {
    "collapsed": true,
    "pycharm": {
     "name": "#%%\n"
    }
   },
   "outputs": [
    {
     "data": {
      "text/plain": "2*a1*a2 + 2",
      "text/latex": "$\\displaystyle 2 a_{1} a_{2} + 2$"
     },
     "execution_count": 5,
     "metadata": {},
     "output_type": "execute_result"
    }
   ],
   "source": [
    "# 4-2: The law that holds when straight lines are orthogonal\n",
    "import sympy as sp\n",
    "\n",
    "a1 = sp.Symbol('a1')\n",
    "a2 = sp.Symbol('a2')\n",
    "\n",
    "expr = sp.Eq((a1 - a2) ** 2, (1 ** 2 + a1 ** 2) + (1 ** 2 + a2 ** 2))\n",
    "expr\n",
    "\n",
    "sp.expand(expr)\n",
    "\n",
    "expr2 = (1 ** 2 + a1 ** 2) + (1 ** 2 + a2 ** 2) - (a1 - a2) ** 2\n",
    "expr2\n",
    "\n",
    "sp.simplify(expr2)"
   ]
  },
  {
   "cell_type": "code",
   "execution_count": 6,
   "outputs": [
    {
     "data": {
      "text/plain": "<Figure size 432x288 with 1 Axes>",
      "image/png": "[encoded data removed]"
     },
     "metadata": {
      "needs_background": "light"
     },
     "output_type": "display_data"
    }
   ],
   "source": [
    "# 4-3: Straight line vertical condition\n",
    "import matplotlib.pyplot as plt\n",
    "import numpy as np\n",
    "\n",
    "\n",
    "def func1(x):\n",
    "    return 3 / 2 * x - 1\n",
    "\n",
    "\n",
    "def func2(x):\n",
    "    return -2 / 3 * x + 5\n",
    "\n",
    "# x の範囲\n",
    "x = np.arange(-2, 9)\n",
    "\n",
    "# 右上がりの直線\n",
    "y1 = func1(x)\n",
    "plt.plot(x, y1)\n",
    "\n",
    "# 右下がりの直線\n",
    "y2 = func2(x)\n",
    "plt.plot(x, y2)\n",
    "\n",
    "# 縦横比を 1:1 で表示\n",
    "plt.axis('equal')\n",
    "plt.show()"
   ],
   "metadata": {
    "collapsed": false,
    "pycharm": {
     "name": "#%%\n"
    }
   }
  },
  {
   "cell_type": "code",
   "execution_count": 4,
   "outputs": [
    {
     "name": "stderr",
     "output_type": "stream",
     "text": [
      "/home/takassi/.local/share/virtualenvs/middle_school_math-aBDxAX-_/lib/python3.9/site-packages/IPython/lib/latextools.py:126: MatplotlibDeprecationWarning: \n",
      "The to_png function was deprecated in Matplotlib 3.4 and will be removed two minor releases later. Use mathtext.math_to_image instead.\n",
      "  mt.to_png(f, s, fontsize=12, dpi=dpi, color=color)\n",
      "/home/takassi/.local/share/virtualenvs/middle_school_math-aBDxAX-_/lib/python3.9/site-packages/IPython/lib/latextools.py:126: MatplotlibDeprecationWarning: \n",
      "The to_rgba function was deprecated in Matplotlib 3.4 and will be removed two minor releases later. Use mathtext.math_to_image instead.\n",
      "  mt.to_png(f, s, fontsize=12, dpi=dpi, color=color)\n",
      "/home/takassi/.local/share/virtualenvs/middle_school_math-aBDxAX-_/lib/python3.9/site-packages/IPython/lib/latextools.py:126: MatplotlibDeprecationWarning: \n",
      "The to_mask function was deprecated in Matplotlib 3.4 and will be removed two minor releases later. Use mathtext.math_to_image instead.\n",
      "  mt.to_png(f, s, fontsize=12, dpi=dpi, color=color)\n",
      "/home/takassi/.local/share/virtualenvs/middle_school_math-aBDxAX-_/lib/python3.9/site-packages/IPython/lib/latextools.py:126: MatplotlibDeprecationWarning: \n",
      "The MathtextBackendBitmap class was deprecated in Matplotlib 3.4 and will be removed two minor releases later. Use mathtext.math_to_image instead.\n",
      "  mt.to_png(f, s, fontsize=12, dpi=dpi, color=color)\n"
     ]
    },
    {
     "data": {
      "text/plain": "n⋅(x - x₁) = m⋅(-x + x₂)",
      "image/png": "[encoded data removed]",
      "text/latex": "$\\displaystyle n \\left(x - x_{1}\\right) = m \\left(- x + x_{2}\\right)$"
     },
     "metadata": {},
     "output_type": "display_data"
    },
    {
     "data": {
      "text/plain": "⎡m⋅x₂ + n⋅x₁⎤\n⎢───────────⎥\n⎣   m + n   ⎦",
      "image/png": "[encoded data removed]",
      "text/latex": "$\\displaystyle \\left[ \\frac{m x_{2} + n x_{1}}{m + n}\\right]$"
     },
     "metadata": {},
     "output_type": "display_data"
    }
   ],
   "source": [
    "# 4-4: Straight lines and line segments\n",
    "import sympy as sp\n",
    "x = sp.Symbol('x')\n",
    "x1, x2 = sp.symbols('x1, x2')\n",
    "m, n = sp.symbols('m, n')\n",
    "\n",
    "expr = sp.Eq(n*(x-x1), m*(x2-x)) # n(x-x1) = m(x2-x) ※1\n",
    "display(expr)\n",
    "sp.init_printing()\n",
    "display(sp.solve(expr, x))"
   ],
   "metadata": {
    "collapsed": false,
    "pycharm": {
     "name": "#%%\n"
    }
   }
  },
  {
   "cell_type": "code",
   "execution_count": 1,
   "outputs": [
    {
     "data": {
      "text/plain": "<Figure size 432x288 with 1 Axes>",
      "image/png": "[encoded data removed]"
     },
     "metadata": {
      "needs_background": "light"
     },
     "output_type": "display_data"
    }
   ],
   "source": [
    "# 4-5: Vertical bisector equation\n",
    "import matplotlib.pyplot as plt\n",
    "import numpy as np\n",
    "\n",
    "# 線分と中点\n",
    "plt.plot([-2, 6], [1, 5]) # (-2, 1)と(6, 5)を結ぶ線分\n",
    "plt.scatter(2, 3) # 線分の中点\n",
    "\n",
    "# 垂直二等分線\n",
    "def func(x):\n",
    "    return -2*x+7 # y = -2x + 7\n",
    "x = np.arange(0, 5) # x の範囲(0～4)\n",
    "y = func(x)\n",
    "plt.plot(x, y)\n",
    "\n",
    "# 画面に表示\n",
    "plt.axis('equal')\n",
    "plt.grid(color='0.8')\n",
    "plt.show()"
   ],
   "metadata": {
    "collapsed": false,
    "pycharm": {
     "name": "#%%\n"
    }
   }
  }
 ],
 "metadata": {
  "kernelspec": {
   "display_name": "Python 3",
   "language": "python",
   "name": "python3"
  },
  "language_info": {
   "codemirror_mode": {
    "name": "ipython",
    "version": 2
   },
   "file_extension": ".py",
   "mimetype": "text/x-python",
   "name": "python",
   "nbconvert_exporter": "python",
   "pygments_lexer": "ipython2",
   "version": "2.7.6"
  }
 },
 "nbformat": 4,
 "nbformat_minor": 0
}