{
 "cells": [
  {
   "cell_type": "code",
   "execution_count": 5,
   "metadata": {
    "collapsed": true,
    "pycharm": {
     "name": "#%%\n"
    }
   },
   "outputs": [
    {
     "data": {
      "text/plain": "2*a1*a2 + 2",
      "text/latex": "$\\displaystyle 2 a_{1} a_{2} + 2$"
     },
     "execution_count": 5,
     "metadata": {},
     "output_type": "execute_result"
    }
   ],
   "source": [
    "# 4-2: The law that holds when straight lines are orthogonal\n",
    "import sympy as sp\n",
    "\n",
    "a1 = sp.Symbol('a1')\n",
    "a2 = sp.Symbol('a2')\n",
    "\n",
    "expr = sp.Eq((a1 - a2) ** 2, (1 ** 2 + a1 ** 2) + (1 ** 2 + a2 ** 2))\n",
    "expr\n",
    "\n",
    "sp.expand(expr)\n",
    "\n",
    "expr2 = (1 ** 2 + a1 ** 2) + (1 ** 2 + a2 ** 2) - (a1 - a2) ** 2\n",
    "expr2\n",
    "\n",
    "sp.simplify(expr2)"
   ]
  }
 ],
 "metadata": {
  "kernelspec": {
   "display_name": "Python 3",
   "language": "python",
   "name": "python3"
  },
  "language_info": {
   "codemirror_mode": {
    "name": "ipython",
    "version": 2
   },
   "file_extension": ".py",
   "mimetype": "text/x-python",
   "name": "python",
   "nbconvert_exporter": "python",
   "pygments_lexer": "ipython2",
   "version": "2.7.6"
  }
 },
 "nbformat": 4,
 "nbformat_minor": 0
}